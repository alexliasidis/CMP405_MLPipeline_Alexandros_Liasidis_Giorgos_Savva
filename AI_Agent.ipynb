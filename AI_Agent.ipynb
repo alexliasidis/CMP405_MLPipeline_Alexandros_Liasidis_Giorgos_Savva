{
  "nbformat": 4,
  "nbformat_minor": 0,
  "metadata": {
    "colab": {
      "provenance": [],
      "authorship_tag": "ABX9TyM4jPlK4ve3ufb89VTKxbYN",
      "include_colab_link": true
    },
    "kernelspec": {
      "name": "python3",
      "display_name": "Python 3"
    },
    "language_info": {
      "name": "python"
    }
  },
  "cells": [
    {
      "cell_type": "markdown",
      "metadata": {
        "id": "view-in-github",
        "colab_type": "text"
      },
      "source": [
        "<a href=\"https://colab.research.google.com/github/alexliasidis/CMP405_MLPipeline_Alexandros_Liasidis_Giorgos_Savva/blob/main/AI_Agent.ipynb\" target=\"_parent\"><img src=\"https://colab.research.google.com/assets/colab-badge.svg\" alt=\"Open In Colab\"/></a>"
      ]
    },
    {
      "cell_type": "code",
      "execution_count": 4,
      "metadata": {
        "id": "YSDPbr-gDNYC"
      },
      "outputs": [],
      "source": [
        "import joblib\n",
        "model=joblib.load('student_performance_model.pkl')"
      ]
    },
    {
      "cell_type": "code",
      "source": [
        "import joblib\n",
        "import pandas as pd\n",
        "\n",
        "# Φόρτωση του εκπαιδευμένου μοντέλου\n",
        "model = joblib.load('student_performance_model.pkl')\n",
        "\n",
        "# Χαρακτηριστικά που περιμένει το μοντέλο\n",
        "feature_names = [\n",
        "    'gender', 'race/ethnicity', 'parental level of education',\n",
        "    'lunch', 'test preparation course',\n",
        "    'math score', 'reading score', 'writing score'\n",
        "]\n",
        "\n",
        "# Mapping από labels σε αριθμούς (όπως έγινε στο training)\n",
        "label_maps = {\n",
        "    'gender': {'female': 0, 'male': 1},\n",
        "    'race/ethnicity': {'group A': 0, 'group B': 1, 'group C': 2, 'group D': 3, 'group E': 4},\n",
        "    'parental level of education': {\n",
        "        'some high school': 0, 'high school': 1, 'some college': 2,\n",
        "        \"associate's degree\": 3, \"bachelor's degree\": 4, \"master's degree\": 5\n",
        "    },\n",
        "    'lunch': {'free/reduced': 0, 'standard': 1},\n",
        "    'test preparation course': {'none': 0, 'completed': 1}\n",
        "}\n",
        "\n",
        "# Συνάρτηση για την κωδικοποίηση του input\n",
        "def encode_input(user_input):\n",
        "    encoded = []\n",
        "    for col, value in user_input.items():\n",
        "        if col in label_maps:\n",
        "            encoded.append(label_maps[col][value])\n",
        "        else:\n",
        "            encoded.append(float(value))  # για τα scores\n",
        "    return pd.DataFrame([encoded], columns=feature_names)\n",
        "\n",
        "# Agent Loop\n",
        "print(\"🎓 Student Performance AI Agent\")\n",
        "print(\"Type 'exit' at any prompt to quit.\\n\")\n",
        "\n",
        "while True:\n",
        "    gender = input(\"Gender (male/female): \")\n",
        "    if gender == 'exit': break\n",
        "\n",
        "    ethnicity = input(\"Ethnicity (group A/B/C/D/E): \")\n",
        "    if ethnicity == 'exit': break\n",
        "\n",
        "    education = input(\"Parental education (some high school / high school / some college / associate's degree / bachelor's degree / master's degree): \")\n",
        "    if education == 'exit': break\n",
        "\n",
        "    lunch = input(\"Lunch (standard / free/reduced): \")\n",
        "    if lunch == 'exit': break\n",
        "\n",
        "    prep = input(\"Test preparation course (none/completed): \")\n",
        "    if prep == 'exit': break\n",
        "\n",
        "    math = input(\"Math score (0-100): \")\n",
        "    if math == 'exit': break\n",
        "\n",
        "    reading = input(\"Reading score (0-100): \")\n",
        "    if reading == 'exit': break\n",
        "\n",
        "    writing = input(\"Writing score (0-100): \")\n",
        "    if writing == 'exit': break\n",
        "\n",
        "    try:\n",
        "        user_data = {\n",
        "            'gender': gender,\n",
        "            'race/ethnicity': ethnicity,\n",
        "            'parental level of education': education,\n",
        "            'lunch': lunch,\n",
        "            'test preparation course': prep,\n",
        "            'math score': math,\n",
        "            'reading score': reading,\n",
        "            'writing score': writing\n",
        "        }\n",
        "\n",
        "        input_df = encode_input(user_data)\n",
        "        prediction = model.predict(input_df)[0]\n",
        "\n",
        "        print(\"🔍 Prediction:\", \"✅ Pass\" if prediction == 1 else \"❌ Fail\")\n",
        "        print(\"-\" * 40)\n",
        "\n",
        "    except Exception as e:\n",
        "        print(\"⚠️ Error:\", e)\n",
        "        print(\"Try again.\\n\")\n"
      ],
      "metadata": {
        "colab": {
          "base_uri": "https://localhost:8080/",
          "height": 608
        },
        "id": "vHAMvT25Dk3q",
        "outputId": "8d841829-72a2-43f0-f162-68692454f9b3"
      },
      "execution_count": 6,
      "outputs": [
        {
          "output_type": "stream",
          "name": "stdout",
          "text": [
            "🎓 Student Performance AI Agent\n",
            "Type 'exit' at any prompt to quit.\n",
            "\n",
            "Gender (male/female): male\n",
            "Ethnicity (group A/B/C/D/E): group A\n",
            "Parental education (some high school / high school / some college / associate's degree / bachelor's degree / master's degree): some college\n",
            "Lunch (standard / free/reduced): standard\n",
            "Test preparation course (none/completed): none\n",
            "Math score (0-100): 70\n",
            "Reading score (0-100): 67\n",
            "Writing score (0-100): 65\n",
            "🔍 Prediction: ✅ Pass\n",
            "----------------------------------------\n"
          ]
        },
        {
          "output_type": "error",
          "ename": "KeyboardInterrupt",
          "evalue": "Interrupted by user",
          "traceback": [
            "\u001b[0;31m---------------------------------------------------------------------------\u001b[0m",
            "\u001b[0;31mKeyboardInterrupt\u001b[0m                         Traceback (most recent call last)",
            "\u001b[0;32m/tmp/ipython-input-6-2749507460.py\u001b[0m in \u001b[0;36m<cell line: 0>\u001b[0;34m()\u001b[0m\n\u001b[1;32m     39\u001b[0m \u001b[0;34m\u001b[0m\u001b[0m\n\u001b[1;32m     40\u001b[0m \u001b[0;32mwhile\u001b[0m \u001b[0;32mTrue\u001b[0m\u001b[0;34m:\u001b[0m\u001b[0;34m\u001b[0m\u001b[0;34m\u001b[0m\u001b[0m\n\u001b[0;32m---> 41\u001b[0;31m     \u001b[0mgender\u001b[0m \u001b[0;34m=\u001b[0m \u001b[0minput\u001b[0m\u001b[0;34m(\u001b[0m\u001b[0;34m\"Gender (male/female): \"\u001b[0m\u001b[0;34m)\u001b[0m\u001b[0;34m\u001b[0m\u001b[0;34m\u001b[0m\u001b[0m\n\u001b[0m\u001b[1;32m     42\u001b[0m     \u001b[0;32mif\u001b[0m \u001b[0mgender\u001b[0m \u001b[0;34m==\u001b[0m \u001b[0;34m'exit'\u001b[0m\u001b[0;34m:\u001b[0m \u001b[0;32mbreak\u001b[0m\u001b[0;34m\u001b[0m\u001b[0;34m\u001b[0m\u001b[0m\n\u001b[1;32m     43\u001b[0m \u001b[0;34m\u001b[0m\u001b[0m\n",
            "\u001b[0;32m/usr/local/lib/python3.11/dist-packages/ipykernel/kernelbase.py\u001b[0m in \u001b[0;36mraw_input\u001b[0;34m(self, prompt)\u001b[0m\n\u001b[1;32m   1175\u001b[0m                 \u001b[0;34m\"raw_input was called, but this frontend does not support input requests.\"\u001b[0m\u001b[0;34m\u001b[0m\u001b[0;34m\u001b[0m\u001b[0m\n\u001b[1;32m   1176\u001b[0m             )\n\u001b[0;32m-> 1177\u001b[0;31m         return self._input_request(\n\u001b[0m\u001b[1;32m   1178\u001b[0m             \u001b[0mstr\u001b[0m\u001b[0;34m(\u001b[0m\u001b[0mprompt\u001b[0m\u001b[0;34m)\u001b[0m\u001b[0;34m,\u001b[0m\u001b[0;34m\u001b[0m\u001b[0;34m\u001b[0m\u001b[0m\n\u001b[1;32m   1179\u001b[0m             \u001b[0mself\u001b[0m\u001b[0;34m.\u001b[0m\u001b[0m_parent_ident\u001b[0m\u001b[0;34m[\u001b[0m\u001b[0;34m\"shell\"\u001b[0m\u001b[0;34m]\u001b[0m\u001b[0;34m,\u001b[0m\u001b[0;34m\u001b[0m\u001b[0;34m\u001b[0m\u001b[0m\n",
            "\u001b[0;32m/usr/local/lib/python3.11/dist-packages/ipykernel/kernelbase.py\u001b[0m in \u001b[0;36m_input_request\u001b[0;34m(self, prompt, ident, parent, password)\u001b[0m\n\u001b[1;32m   1217\u001b[0m             \u001b[0;32mexcept\u001b[0m \u001b[0mKeyboardInterrupt\u001b[0m\u001b[0;34m:\u001b[0m\u001b[0;34m\u001b[0m\u001b[0;34m\u001b[0m\u001b[0m\n\u001b[1;32m   1218\u001b[0m                 \u001b[0;31m# re-raise KeyboardInterrupt, to truncate traceback\u001b[0m\u001b[0;34m\u001b[0m\u001b[0;34m\u001b[0m\u001b[0m\n\u001b[0;32m-> 1219\u001b[0;31m                 \u001b[0;32mraise\u001b[0m \u001b[0mKeyboardInterrupt\u001b[0m\u001b[0;34m(\u001b[0m\u001b[0;34m\"Interrupted by user\"\u001b[0m\u001b[0;34m)\u001b[0m \u001b[0;32mfrom\u001b[0m \u001b[0;32mNone\u001b[0m\u001b[0;34m\u001b[0m\u001b[0;34m\u001b[0m\u001b[0m\n\u001b[0m\u001b[1;32m   1220\u001b[0m             \u001b[0;32mexcept\u001b[0m \u001b[0mException\u001b[0m\u001b[0;34m:\u001b[0m\u001b[0;34m\u001b[0m\u001b[0;34m\u001b[0m\u001b[0m\n\u001b[1;32m   1221\u001b[0m                 \u001b[0mself\u001b[0m\u001b[0;34m.\u001b[0m\u001b[0mlog\u001b[0m\u001b[0;34m.\u001b[0m\u001b[0mwarning\u001b[0m\u001b[0;34m(\u001b[0m\u001b[0;34m\"Invalid Message:\"\u001b[0m\u001b[0;34m,\u001b[0m \u001b[0mexc_info\u001b[0m\u001b[0;34m=\u001b[0m\u001b[0;32mTrue\u001b[0m\u001b[0;34m)\u001b[0m\u001b[0;34m\u001b[0m\u001b[0;34m\u001b[0m\u001b[0m\n",
            "\u001b[0;31mKeyboardInterrupt\u001b[0m: Interrupted by user"
          ]
        }
      ]
    }
  ]
}